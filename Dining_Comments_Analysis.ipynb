{
  "nbformat": 4,
  "nbformat_minor": 0,
  "metadata": {
    "colab": {
      "provenance": [],
      "authorship_tag": "ABX9TyOPemrgMfuM1pHOkfA/T2/L",
      "include_colab_link": true
    },
    "kernelspec": {
      "name": "python3",
      "display_name": "Python 3"
    },
    "language_info": {
      "name": "python"
    }
  },
  "cells": [
    {
      "cell_type": "markdown",
      "metadata": {
        "id": "view-in-github",
        "colab_type": "text"
      },
      "source": [
        "<a href=\"https://colab.research.google.com/github/amitgantasala/DSmarketing/blob/main/Dining_Comments_Analysis.ipynb\" target=\"_parent\"><img src=\"https://colab.research.google.com/assets/colab-badge.svg\" alt=\"Open In Colab\"/></a>"
      ]
    },
    {
      "cell_type": "code",
      "execution_count": 1,
      "metadata": {
        "id": "PjWZfDaCokHx",
        "colab": {
          "base_uri": "https://localhost:8080/"
        },
        "outputId": "cb29113f-b2e5-44c4-c4e5-0b273cc2c7ec"
      },
      "outputs": [
        {
          "output_type": "stream",
          "name": "stdout",
          "text": [
            "Mounted at /content/drive\n"
          ]
        }
      ],
      "source": [
        "from google.colab import drive\n",
        "drive.mount('/content/drive')\n"
      ]
    },
    {
      "cell_type": "code",
      "source": [
        "%cd /content\n"
      ],
      "metadata": {
        "colab": {
          "base_uri": "https://localhost:8080/"
        },
        "id": "q8erZZPkO4i3",
        "outputId": "e82ecdba-7137-42c4-b2c0-6f99d5085698"
      },
      "execution_count": 2,
      "outputs": [
        {
          "output_type": "stream",
          "name": "stdout",
          "text": [
            "/content\n"
          ]
        }
      ]
    },
    {
      "cell_type": "code",
      "source": [
        "!git clone https://github.com/amitgantasala/DSmarketing.git\n"
      ],
      "metadata": {
        "colab": {
          "base_uri": "https://localhost:8080/"
        },
        "id": "HayUxXuTO_NQ",
        "outputId": "4b025723-5e36-466f-de75-22db9537905f"
      },
      "execution_count": 3,
      "outputs": [
        {
          "output_type": "stream",
          "name": "stdout",
          "text": [
            "Cloning into 'DSmarketing'...\n",
            "remote: Enumerating objects: 6, done.\u001b[K\n",
            "remote: Counting objects: 100% (6/6), done.\u001b[K\n",
            "remote: Compressing objects: 100% (6/6), done.\u001b[K\n",
            "remote: Total 6 (delta 0), reused 0 (delta 0), pack-reused 0\u001b[K\n",
            "Unpacking objects: 100% (6/6), 288.95 KiB | 6.42 MiB/s, done.\n"
          ]
        }
      ]
    },
    {
      "cell_type": "code",
      "source": [
        "!pip install pandas openpyxl\n"
      ],
      "metadata": {
        "colab": {
          "base_uri": "https://localhost:8080/"
        },
        "id": "AElu2tg_PFix",
        "outputId": "169ae5be-fa2a-4446-aa29-b02f658052f0"
      },
      "execution_count": 4,
      "outputs": [
        {
          "output_type": "stream",
          "name": "stdout",
          "text": [
            "Looking in indexes: https://pypi.org/simple, https://us-python.pkg.dev/colab-wheels/public/simple/\n",
            "Requirement already satisfied: pandas in /usr/local/lib/python3.10/dist-packages (1.5.3)\n",
            "Requirement already satisfied: openpyxl in /usr/local/lib/python3.10/dist-packages (3.0.10)\n",
            "Requirement already satisfied: python-dateutil>=2.8.1 in /usr/local/lib/python3.10/dist-packages (from pandas) (2.8.2)\n",
            "Requirement already satisfied: pytz>=2020.1 in /usr/local/lib/python3.10/dist-packages (from pandas) (2022.7.1)\n",
            "Requirement already satisfied: numpy>=1.21.0 in /usr/local/lib/python3.10/dist-packages (from pandas) (1.22.4)\n",
            "Requirement already satisfied: et-xmlfile in /usr/local/lib/python3.10/dist-packages (from openpyxl) (1.1.0)\n",
            "Requirement already satisfied: six>=1.5 in /usr/local/lib/python3.10/dist-packages (from python-dateutil>=2.8.1->pandas) (1.16.0)\n"
          ]
        }
      ]
    },
    {
      "cell_type": "code",
      "source": [
        "import pandas as pd\n",
        "\n",
        "# Read the Excel file\n",
        "file_path = \"/content/DSmarketing/Organized comment data.xlsx\"  # Replace \"your_file_name\" with the actual file name\n",
        "df = pd.read_excel(file_path)\n",
        "\n",
        "# Perform operations on the DataFrame (e.g., print the first few rows)\n",
        "print(df.head())\n"
      ],
      "metadata": {
        "colab": {
          "base_uri": "https://localhost:8080/"
        },
        "id": "GajS7az6PIH-",
        "outputId": "182182ba-f265-46f6-94d1-9fde1dc96f8a"
      },
      "execution_count": 6,
      "outputs": [
        {
          "output_type": "stream",
          "name": "stdout",
          "text": [
            "                  date                  location  \\\n",
            "0  2023-05-08 19:43:30  South Campus Dining Hall   \n",
            "1  2023-05-08 19:30:17              Yahentamitsi   \n",
            "2  2023-05-08 13:08:22  South Campus Dining Hall   \n",
            "3  2023-05-07 16:09:44                 251 North   \n",
            "4  2023-05-06 19:04:32                 251 North   \n",
            "\n",
            "                                             comment reply  \\\n",
            "0                 can we get plates by the cookies?    NaN   \n",
            "1  BRING BACK THE BUILD YOUR OWN PASTA THAT USED ...   NaN   \n",
            "2               I love the plums by the whole fruit!   NaN   \n",
            "3  I wanted to say thanks! I had asked for differ...   NaN   \n",
            "4                 Please bring carrot sticks to 251!   NaN   \n",
            "\n",
            "                       email first year at dining hall compliment request  \\\n",
            "0                        NaN                        No      False   False   \n",
            "1  hparanda@terpmail.umd.edu                        No      False   False   \n",
            "2                        NaN                        No      False   False   \n",
            "3                        NaN                       Yes      False   False   \n",
            "4   chagman@terpmail.umd.edu                       Yes      False   False   \n",
            "\n",
            "  complaint question  \n",
            "0     False    False  \n",
            "1     False    False  \n",
            "2     False    False  \n",
            "3     False    False  \n",
            "4     False    False  \n"
          ]
        }
      ]
    }
  ]
}