{
  "nbformat": 4,
  "nbformat_minor": 0,
  "metadata": {
    "colab": {
      "provenance": [],
      "include_colab_link": true
    },
    "kernelspec": {
      "name": "python3",
      "display_name": "Python 3"
    },
    "language_info": {
      "name": "python"
    }
  },
  "cells": [
    {
      "cell_type": "markdown",
      "metadata": {
        "id": "view-in-github",
        "colab_type": "text"
      },
      "source": [
        "<a href=\"https://colab.research.google.com/github/amitgantasala/DSmarketing/blob/main/Dining_Comments_Analysis.ipynb\" target=\"_parent\"><img src=\"https://colab.research.google.com/assets/colab-badge.svg\" alt=\"Open In Colab\"/></a>"
      ]
    },
    {
      "cell_type": "code",
      "execution_count": null,
      "metadata": {
        "id": "PjWZfDaCokHx",
        "colab": {
          "base_uri": "https://localhost:8080/"
        },
        "outputId": "cb29113f-b2e5-44c4-c4e5-0b273cc2c7ec"
      },
      "outputs": [
        {
          "output_type": "stream",
          "name": "stdout",
          "text": [
            "Mounted at /content/drive\n"
          ]
        }
      ],
      "source": [
        "from google.colab import drive\n",
        "drive.mount('/content/drive')\n"
      ]
    },
    {
      "cell_type": "code",
      "source": [
        "%cd /content\n"
      ],
      "metadata": {
        "colab": {
          "base_uri": "https://localhost:8080/"
        },
        "id": "q8erZZPkO4i3",
        "outputId": "e82ecdba-7137-42c4-b2c0-6f99d5085698"
      },
      "execution_count": null,
      "outputs": [
        {
          "output_type": "stream",
          "name": "stdout",
          "text": [
            "/content\n"
          ]
        }
      ]
    },
    {
      "cell_type": "code",
      "source": [
        "!git clone https://github.com/amitgantasala/DSmarketing.git\n"
      ],
      "metadata": {
        "colab": {
          "base_uri": "https://localhost:8080/"
        },
        "id": "HayUxXuTO_NQ",
        "outputId": "6ed8e83c-940d-4580-bd78-6be139147804"
      },
      "execution_count": 2,
      "outputs": [
        {
          "output_type": "stream",
          "name": "stdout",
          "text": [
            "Cloning into 'DSmarketing'...\n",
            "remote: Enumerating objects: 9, done.\u001b[K\n",
            "remote: Counting objects: 100% (9/9), done.\u001b[K\n",
            "remote: Compressing objects: 100% (9/9), done.\u001b[K\n",
            "remote: Total 9 (delta 1), reused 0 (delta 0), pack-reused 0\u001b[K\n",
            "Unpacking objects: 100% (9/9), 290.71 KiB | 1.75 MiB/s, done.\n"
          ]
        }
      ]
    },
    {
      "cell_type": "code",
      "source": [
        "!pip install pandas openpyxl\n"
      ],
      "metadata": {
        "colab": {
          "base_uri": "https://localhost:8080/"
        },
        "id": "AElu2tg_PFix",
        "outputId": "6da9f9ad-42f2-4013-de02-3f9036cd91e2"
      },
      "execution_count": 3,
      "outputs": [
        {
          "output_type": "stream",
          "name": "stdout",
          "text": [
            "Looking in indexes: https://pypi.org/simple, https://us-python.pkg.dev/colab-wheels/public/simple/\n",
            "Requirement already satisfied: pandas in /usr/local/lib/python3.10/dist-packages (1.5.3)\n",
            "Requirement already satisfied: openpyxl in /usr/local/lib/python3.10/dist-packages (3.0.10)\n",
            "Requirement already satisfied: python-dateutil>=2.8.1 in /usr/local/lib/python3.10/dist-packages (from pandas) (2.8.2)\n",
            "Requirement already satisfied: pytz>=2020.1 in /usr/local/lib/python3.10/dist-packages (from pandas) (2022.7.1)\n",
            "Requirement already satisfied: numpy>=1.21.0 in /usr/local/lib/python3.10/dist-packages (from pandas) (1.22.4)\n",
            "Requirement already satisfied: et-xmlfile in /usr/local/lib/python3.10/dist-packages (from openpyxl) (1.1.0)\n",
            "Requirement already satisfied: six>=1.5 in /usr/local/lib/python3.10/dist-packages (from python-dateutil>=2.8.1->pandas) (1.16.0)\n"
          ]
        }
      ]
    },
    {
      "cell_type": "code",
      "source": [
        "import pandas as pd\n",
        "\n",
        "# Read the Excel file\n",
        "file_path = \"/content/DSmarketing/Organized comment data.xlsx\"  # Replace \"your_file_name\" with the actual file name\n",
        "df = pd.read_excel(file_path)\n",
        "\n",
        "# Perform operations on the DataFrame (e.g., print the first few rows)\n",
        "#print(df.head())\n"
      ],
      "metadata": {
        "id": "GajS7az6PIH-"
      },
      "execution_count": 5,
      "outputs": []
    },
    {
      "cell_type": "code",
      "source": [
        "df.head()\n",
        "#df.columns"
      ],
      "metadata": {
        "colab": {
          "base_uri": "https://localhost:8080/",
          "height": 350
        },
        "id": "NtahgSLu8wZC",
        "outputId": "149e636a-7c8b-418e-b621-1dcb405aefea"
      },
      "execution_count": 8,
      "outputs": [
        {
          "output_type": "execute_result",
          "data": {
            "text/plain": [
              "                  date                  location  \\\n",
              "0  2023-05-08 19:43:30  South Campus Dining Hall   \n",
              "1  2023-05-08 19:30:17              Yahentamitsi   \n",
              "2  2023-05-08 13:08:22  South Campus Dining Hall   \n",
              "3  2023-05-07 16:09:44                 251 North   \n",
              "4  2023-05-06 19:04:32                 251 North   \n",
              "\n",
              "                                             comment reply  \\\n",
              "0                 can we get plates by the cookies?    NaN   \n",
              "1  BRING BACK THE BUILD YOUR OWN PASTA THAT USED ...   NaN   \n",
              "2               I love the plums by the whole fruit!   NaN   \n",
              "3  I wanted to say thanks! I had asked for differ...   NaN   \n",
              "4                 Please bring carrot sticks to 251!   NaN   \n",
              "\n",
              "                       email first year at dining hall compliment request  \\\n",
              "0                        NaN                        No      False   False   \n",
              "1  hparanda@terpmail.umd.edu                        No      False   False   \n",
              "2                        NaN                        No      False   False   \n",
              "3                        NaN                       Yes      False   False   \n",
              "4   chagman@terpmail.umd.edu                       Yes      False   False   \n",
              "\n",
              "  complaint question  \n",
              "0     False    False  \n",
              "1     False    False  \n",
              "2     False    False  \n",
              "3     False    False  \n",
              "4     False    False  "
            ],
            "text/html": [
              "\n",
              "  <div id=\"df-35ae1445-6d70-4fe3-af4f-c6999a18cb56\">\n",
              "    <div class=\"colab-df-container\">\n",
              "      <div>\n",
              "<style scoped>\n",
              "    .dataframe tbody tr th:only-of-type {\n",
              "        vertical-align: middle;\n",
              "    }\n",
              "\n",
              "    .dataframe tbody tr th {\n",
              "        vertical-align: top;\n",
              "    }\n",
              "\n",
              "    .dataframe thead th {\n",
              "        text-align: right;\n",
              "    }\n",
              "</style>\n",
              "<table border=\"1\" class=\"dataframe\">\n",
              "  <thead>\n",
              "    <tr style=\"text-align: right;\">\n",
              "      <th></th>\n",
              "      <th>date</th>\n",
              "      <th>location</th>\n",
              "      <th>comment</th>\n",
              "      <th>reply</th>\n",
              "      <th>email</th>\n",
              "      <th>first year at dining hall</th>\n",
              "      <th>compliment</th>\n",
              "      <th>request</th>\n",
              "      <th>complaint</th>\n",
              "      <th>question</th>\n",
              "    </tr>\n",
              "  </thead>\n",
              "  <tbody>\n",
              "    <tr>\n",
              "      <th>0</th>\n",
              "      <td>2023-05-08 19:43:30</td>\n",
              "      <td>South Campus Dining Hall</td>\n",
              "      <td>can we get plates by the cookies?</td>\n",
              "      <td>NaN</td>\n",
              "      <td>NaN</td>\n",
              "      <td>No</td>\n",
              "      <td>False</td>\n",
              "      <td>False</td>\n",
              "      <td>False</td>\n",
              "      <td>False</td>\n",
              "    </tr>\n",
              "    <tr>\n",
              "      <th>1</th>\n",
              "      <td>2023-05-08 19:30:17</td>\n",
              "      <td>Yahentamitsi</td>\n",
              "      <td>BRING BACK THE BUILD YOUR OWN PASTA THAT USED ...</td>\n",
              "      <td>NaN</td>\n",
              "      <td>hparanda@terpmail.umd.edu</td>\n",
              "      <td>No</td>\n",
              "      <td>False</td>\n",
              "      <td>False</td>\n",
              "      <td>False</td>\n",
              "      <td>False</td>\n",
              "    </tr>\n",
              "    <tr>\n",
              "      <th>2</th>\n",
              "      <td>2023-05-08 13:08:22</td>\n",
              "      <td>South Campus Dining Hall</td>\n",
              "      <td>I love the plums by the whole fruit!</td>\n",
              "      <td>NaN</td>\n",
              "      <td>NaN</td>\n",
              "      <td>No</td>\n",
              "      <td>False</td>\n",
              "      <td>False</td>\n",
              "      <td>False</td>\n",
              "      <td>False</td>\n",
              "    </tr>\n",
              "    <tr>\n",
              "      <th>3</th>\n",
              "      <td>2023-05-07 16:09:44</td>\n",
              "      <td>251 North</td>\n",
              "      <td>I wanted to say thanks! I had asked for differ...</td>\n",
              "      <td>NaN</td>\n",
              "      <td>NaN</td>\n",
              "      <td>Yes</td>\n",
              "      <td>False</td>\n",
              "      <td>False</td>\n",
              "      <td>False</td>\n",
              "      <td>False</td>\n",
              "    </tr>\n",
              "    <tr>\n",
              "      <th>4</th>\n",
              "      <td>2023-05-06 19:04:32</td>\n",
              "      <td>251 North</td>\n",
              "      <td>Please bring carrot sticks to 251!</td>\n",
              "      <td>NaN</td>\n",
              "      <td>chagman@terpmail.umd.edu</td>\n",
              "      <td>Yes</td>\n",
              "      <td>False</td>\n",
              "      <td>False</td>\n",
              "      <td>False</td>\n",
              "      <td>False</td>\n",
              "    </tr>\n",
              "  </tbody>\n",
              "</table>\n",
              "</div>\n",
              "      <button class=\"colab-df-convert\" onclick=\"convertToInteractive('df-35ae1445-6d70-4fe3-af4f-c6999a18cb56')\"\n",
              "              title=\"Convert this dataframe to an interactive table.\"\n",
              "              style=\"display:none;\">\n",
              "        \n",
              "  <svg xmlns=\"http://www.w3.org/2000/svg\" height=\"24px\"viewBox=\"0 0 24 24\"\n",
              "       width=\"24px\">\n",
              "    <path d=\"M0 0h24v24H0V0z\" fill=\"none\"/>\n",
              "    <path d=\"M18.56 5.44l.94 2.06.94-2.06 2.06-.94-2.06-.94-.94-2.06-.94 2.06-2.06.94zm-11 1L8.5 8.5l.94-2.06 2.06-.94-2.06-.94L8.5 2.5l-.94 2.06-2.06.94zm10 10l.94 2.06.94-2.06 2.06-.94-2.06-.94-.94-2.06-.94 2.06-2.06.94z\"/><path d=\"M17.41 7.96l-1.37-1.37c-.4-.4-.92-.59-1.43-.59-.52 0-1.04.2-1.43.59L10.3 9.45l-7.72 7.72c-.78.78-.78 2.05 0 2.83L4 21.41c.39.39.9.59 1.41.59.51 0 1.02-.2 1.41-.59l7.78-7.78 2.81-2.81c.8-.78.8-2.07 0-2.86zM5.41 20L4 18.59l7.72-7.72 1.47 1.35L5.41 20z\"/>\n",
              "  </svg>\n",
              "      </button>\n",
              "      \n",
              "  <style>\n",
              "    .colab-df-container {\n",
              "      display:flex;\n",
              "      flex-wrap:wrap;\n",
              "      gap: 12px;\n",
              "    }\n",
              "\n",
              "    .colab-df-convert {\n",
              "      background-color: #E8F0FE;\n",
              "      border: none;\n",
              "      border-radius: 50%;\n",
              "      cursor: pointer;\n",
              "      display: none;\n",
              "      fill: #1967D2;\n",
              "      height: 32px;\n",
              "      padding: 0 0 0 0;\n",
              "      width: 32px;\n",
              "    }\n",
              "\n",
              "    .colab-df-convert:hover {\n",
              "      background-color: #E2EBFA;\n",
              "      box-shadow: 0px 1px 2px rgba(60, 64, 67, 0.3), 0px 1px 3px 1px rgba(60, 64, 67, 0.15);\n",
              "      fill: #174EA6;\n",
              "    }\n",
              "\n",
              "    [theme=dark] .colab-df-convert {\n",
              "      background-color: #3B4455;\n",
              "      fill: #D2E3FC;\n",
              "    }\n",
              "\n",
              "    [theme=dark] .colab-df-convert:hover {\n",
              "      background-color: #434B5C;\n",
              "      box-shadow: 0px 1px 3px 1px rgba(0, 0, 0, 0.15);\n",
              "      filter: drop-shadow(0px 1px 2px rgba(0, 0, 0, 0.3));\n",
              "      fill: #FFFFFF;\n",
              "    }\n",
              "  </style>\n",
              "\n",
              "      <script>\n",
              "        const buttonEl =\n",
              "          document.querySelector('#df-35ae1445-6d70-4fe3-af4f-c6999a18cb56 button.colab-df-convert');\n",
              "        buttonEl.style.display =\n",
              "          google.colab.kernel.accessAllowed ? 'block' : 'none';\n",
              "\n",
              "        async function convertToInteractive(key) {\n",
              "          const element = document.querySelector('#df-35ae1445-6d70-4fe3-af4f-c6999a18cb56');\n",
              "          const dataTable =\n",
              "            await google.colab.kernel.invokeFunction('convertToInteractive',\n",
              "                                                     [key], {});\n",
              "          if (!dataTable) return;\n",
              "\n",
              "          const docLinkHtml = 'Like what you see? Visit the ' +\n",
              "            '<a target=\"_blank\" href=https://colab.research.google.com/notebooks/data_table.ipynb>data table notebook</a>'\n",
              "            + ' to learn more about interactive tables.';\n",
              "          element.innerHTML = '';\n",
              "          dataTable['output_type'] = 'display_data';\n",
              "          await google.colab.output.renderOutput(dataTable, element);\n",
              "          const docLink = document.createElement('div');\n",
              "          docLink.innerHTML = docLinkHtml;\n",
              "          element.appendChild(docLink);\n",
              "        }\n",
              "      </script>\n",
              "    </div>\n",
              "  </div>\n",
              "  "
            ]
          },
          "metadata": {},
          "execution_count": 8
        }
      ]
    },
    {
      "cell_type": "code",
      "source": [
        "import pandas as pd\n",
        "from collections import Counter\n",
        "from textblob import TextBlob\n",
        "\n",
        "# Load the dataframe\n",
        "#df = pd.read_csv('your_dataframe.csv')\n",
        "\n",
        "# Convert float values in 'comment' column to string\n",
        "df['comment'] = df['comment'].astype(str)\n",
        "\n",
        "# Convert values in 'compliment' column to string\n",
        "df['compliment'] = df['compliment'].astype(str)\n",
        "\n",
        "# Total number of comments\n",
        "total_comments = len(df)\n",
        "\n",
        "# Most frequent words or phrases in comments\n",
        "comment_words = ' '.join(df['comment']).split()\n",
        "most_common_words = Counter(comment_words).most_common(10)\n",
        "\n",
        "# Average length of comments\n",
        "average_length = df['comment'].apply(lambda x: len(x.split())).mean()\n",
        "\n",
        "# Number of unique commenters\n",
        "unique_commenters = df['email'].nunique()\n",
        "\n",
        "# Sentiment distribution of comments\n",
        "sentiment_scores = df['comment'].apply(lambda x: TextBlob(x).sentiment.polarity)\n",
        "positive_comments = sum(sentiment_scores > 0)\n",
        "negative_comments = sum(sentiment_scores < 0)\n",
        "neutral_comments = sum(sentiment_scores == 0)\n",
        "\n",
        "# Locations with the highest number of comments\n",
        "top_locations = df['location'].value_counts().head(5)\n",
        "\n",
        "# Correlation between comment length and number of replies\n",
        "correlation = df['comment'].apply(lambda x: len(x.split())).corr(df['reply'].fillna(0))\n",
        "\n",
        "# Most common compliments in comments\n",
        "compliments = df['compliment'].dropna().astype(str).str.cat(sep=' ')\n",
        "most_common_compliments = Counter(compliments.split()).most_common(5)\n",
        "\n",
        "# Most common complaints or requests in comments\n",
        "complaints_requests = df['complaint'].dropna().astype(str).str.cat(sep=' ')\n",
        "most_common_complaints_requests = Counter(complaints_requests.split()).most_common(5)\n",
        "\n",
        "# Print the answers to the questions\n",
        "print(\"Total number of comments:\", total_comments)\n",
        "print(\"Most frequent words or phrases in comments:\", most_common_words)\n",
        "print(\"Average length of comments:\", average_length)\n",
        "print(\"Number of unique commenters:\", unique_commenters)\n",
        "print(\"Sentiment distribution of comments:\")\n",
        "print(\"Positive comments:\", positive_comments)\n",
        "print(\"Negative comments:\", negative_comments)\n",
        "print(\"Neutral comments:\", neutral_comments)\n",
        "print(\"Locations with the highest number of comments:\", top_locations)\n",
        "print(\"Correlation between comment length and number of replies:\", correlation)\n",
        "print(\"Most common compliments in comments:\", most_common_compliments)\n",
        "print(\"Most common complaints or requests in comments:\", most_common_complaints_requests)\n"
      ],
      "metadata": {
        "colab": {
          "base_uri": "https://localhost:8080/"
        },
        "id": "zzWlCoQvD0lO",
        "outputId": "f8f53fe9-4d49-4432-b798-263c78c8cced"
      },
      "execution_count": 12,
      "outputs": [
        {
          "output_type": "stream",
          "name": "stdout",
          "text": [
            "Total number of comments: 2228\n",
            "Most frequent words or phrases in comments: [('the', 3111), ('I', 1625), ('to', 1533), ('and', 1512), ('a', 1073), ('of', 864), ('is', 744), ('in', 699), ('it', 674), ('for', 672)]\n",
            "Average length of comments: 28.706912028725313\n",
            "Number of unique commenters: 408\n",
            "Sentiment distribution of comments:\n",
            "Positive comments: 1199\n",
            "Negative comments: 432\n",
            "Neutral comments: 597\n",
            "Locations with the highest number of comments: South                       402\n",
            "Ellicott                    393\n",
            "South Campus Dining Hall    344\n",
            "Yahentamitsi                181\n",
            "The Diner                   162\n",
            "Name: location, dtype: int64\n",
            "Correlation between comment length and number of replies: nan\n",
            "Most common compliments in comments: [('nan', 1397), ('False', 651), ('True', 177), ('request', 2), ('compliment', 1)]\n",
            "Most common complaints or requests in comments: [('False', 739), ('True', 89), ('Carryout', 4), ('complaint', 2), ('question', 2)]\n"
          ]
        }
      ]
    },
    {
      "cell_type": "code",
      "source": [
        "import pandas as pd\n",
        "from collections import Counter\n",
        "from textblob import TextBlob\n",
        "from nltk.corpus import stopwords\n",
        "from nltk.tokenize import word_tokenize\n",
        "import string\n",
        "\n",
        "# Load the dataframe\n",
        "#df = pd.read_csv('your_dataframe.csv')\n",
        "\n",
        "# Convert float values in 'comment' column to string\n",
        "df['comment'] = df['comment'].astype(str)\n",
        "\n",
        "# Convert values in 'compliment' column to string\n",
        "df['compliment'] = df['compliment'].astype(str)\n",
        "\n",
        "# Total number of comments\n",
        "total_comments = len(df)\n",
        "\n",
        "# Most frequent words or phrases in comments (excluding stop words and punctuation)\n",
        "stop_words = set(stopwords.words('english'))\n",
        "comment_words = ' '.join(df['comment']).lower()\n",
        "tokenized_words = word_tokenize(comment_words)\n",
        "filtered_words = [word for word in tokenized_words if word not in stop_words and word not in string.punctuation]\n",
        "most_common_words = Counter(filtered_words).most_common(10)\n",
        "\n",
        "# Average length of comments\n",
        "average_length = df['comment'].apply(lambda x: len(x.split())).mean()\n",
        "\n",
        "# Number of unique commenters\n",
        "unique_commenters = df['email'].nunique()\n",
        "\n",
        "# Sentiment distribution of comments\n",
        "sentiment_scores = df['comment'].apply(lambda x: TextBlob(x).sentiment.polarity)\n",
        "positive_comments = sum(sentiment_scores > 0)\n",
        "negative_comments = sum(sentiment_scores < 0)\n",
        "neutral_comments = sum(sentiment_scores == 0)\n",
        "\n",
        "# Locations with the highest number of comments\n",
        "top_locations = df['location'].value_counts().head(5)\n",
        "\n",
        "# Correlation between comment length and number of replies\n",
        "correlation = df['comment'].apply(lambda x: len(x.split())).corr(df['reply'].fillna(0))\n",
        "\n",
        "# Most common compliments in comments (excluding stop words and punctuation)\n",
        "compliments = df['compliment'].dropna().astype(str).str.lower()\n",
        "tokenized_compliments = word_tokenize(compliments.str.cat(sep=' '))\n",
        "filtered_compliments = [word for word in tokenized_compliments if word not in stop_words and word not in string.punctuation]\n",
        "most_common_compliments = Counter(filtered_compliments).most_common(5)\n",
        "\n",
        "# Most common complaints or requests in comments (excluding stop words and punctuation)\n",
        "complaints_requests = df['complaint'].dropna().astype(str).str.lower()\n",
        "tokenized_complaints_requests = word_tokenize(complaints_requests.str.cat(sep=' '))\n",
        "filtered_complaints_requests = [word for word in tokenized_complaints_requests if word not in stop_words and word not in string.punctuation]\n",
        "most_common_complaints_requests = Counter(filtered_complaints_requests).most_common(5)\n",
        "\n",
        "# Print the answers to the questions\n",
        "print(\"Total number of comments:\", total_comments)\n",
        "print(\"Most frequent words or phrases in comments (excluding stop words and punctuation):\", most_common_words)\n",
        "print(\"Average length of comments:\", average_length)\n",
        "print(\"Number of unique commenters:\", unique_commenters)\n",
        "print(\"Sentiment distribution of comments:\")\n",
        "print(\"Positive comments:\", positive_comments)\n",
        "print(\"Negative comments:\", negative_comments)\n",
        "print(\"Neutral comments:\", neutral_comments)\n",
        "print(\"Locations with the highest number of comments:\", top_locations)\n",
        "print(\"Correlation between comment length and number of replies:\", correlation)\n",
        "print(\"Most common compliments in comments (excluding stop words and punctuation):\", most_common_compliments)\n",
        "print(\"Most common complaints or requests in comments (excluding stop words and punctuation):\", most_common_complaints_requests)\n"
      ],
      "metadata": {
        "colab": {
          "base_uri": "https://localhost:8080/"
        },
        "id": "y0AamPN-GS7V",
        "outputId": "e99c8070-7148-4e56-f272-e13630bc667a"
      },
      "execution_count": 17,
      "outputs": [
        {
          "output_type": "stream",
          "name": "stdout",
          "text": [
            "Total number of comments: 2228\n",
            "Most frequent words or phrases in comments (excluding stop words and punctuation): [('’', 647), ('please', 596), ('would', 420), ('dining', 413), ('food', 367), ('like', 328), ('chicken', 320), ('good', 275), ('back', 246), ('hall', 230)]\n",
            "Average length of comments: 28.706912028725313\n",
            "Number of unique commenters: 408\n",
            "Sentiment distribution of comments:\n",
            "Positive comments: 1199\n",
            "Negative comments: 432\n",
            "Neutral comments: 597\n",
            "Locations with the highest number of comments: South                       402\n",
            "Ellicott                    393\n",
            "South Campus Dining Hall    344\n",
            "Yahentamitsi                181\n",
            "The Diner                   162\n",
            "Name: location, dtype: int64\n",
            "Correlation between comment length and number of replies: nan\n",
            "Most common compliments in comments (excluding stop words and punctuation): [('nan', 1397), ('false', 651), ('true', 177), ('request', 2), ('compliment', 1)]\n",
            "Most common complaints or requests in comments (excluding stop words and punctuation): [('false', 739), ('true', 89), ('carryout', 4), ('complaint', 2), ('question', 2)]\n"
          ]
        }
      ]
    }
  ]
}